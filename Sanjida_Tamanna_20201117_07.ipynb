{
 "cells": [
  {
   "cell_type": "code",
   "execution_count": 1,
   "metadata": {},
   "outputs": [
    {
     "name": "stdout",
     "output_type": "stream",
     "text": [
      "enter input here : python374637\n",
      "python1020\n"
     ]
    }
   ],
   "source": [
    "string = input(\"enter input here : \")\n",
    "evensum = 0\n",
    "oddsum = 0\n",
    "name = \"\"\n",
    "for i in string:\n",
    "    c = ord(i)\n",
    "    if c >= 48 and c <= 57:\n",
    "        if (int(i) % 2 == 0):\n",
    "            evensum = evensum + int(i)\n",
    "        else:\n",
    "            oddsum = oddsum + int(i)\n",
    "    else:\n",
    "        name = name + i\n",
    "\n",
    "\n",
    "if evensum == 0 or oddsum == 0:\n",
    "    print(name)\n",
    "else:\n",
    "    print(f\"{name}{evensum}{oddsum}\")"
   ]
  },
  {
   "cell_type": "code",
   "execution_count": null,
   "metadata": {},
   "outputs": [],
   "source": []
  },
  {
   "cell_type": "code",
   "execution_count": null,
   "metadata": {},
   "outputs": [],
   "source": []
  }
 ],
 "metadata": {
  "kernelspec": {
   "display_name": "Python 3",
   "language": "python",
   "name": "python3"
  },
  "language_info": {
   "codemirror_mode": {
    "name": "ipython",
    "version": 3
   },
   "file_extension": ".py",
   "mimetype": "text/x-python",
   "name": "python",
   "nbconvert_exporter": "python",
   "pygments_lexer": "ipython3",
   "version": "3.8.5"
  }
 },
 "nbformat": 4,
 "nbformat_minor": 4
}
